{
 "cells": [
  {
   "cell_type": "code",
   "execution_count": 1,
   "metadata": {},
   "outputs": [],
   "source": [
    "import numpy as np\n",
    "import pandas as pd\n",
    "import matplotlib.pyplot as plt"
   ]
  },
  {
   "cell_type": "markdown",
   "metadata": {},
   "source": [
    "# Enter the password here\n"
   ]
  },
  {
   "cell_type": "code",
   "execution_count": 2,
   "metadata": {},
   "outputs": [],
   "source": [
    "password = '3me7vdo_'"
   ]
  },
  {
   "cell_type": "code",
   "execution_count": 3,
   "metadata": {},
   "outputs": [],
   "source": [
    "from npz_loader import load_encrypted_npz\n",
    "\n",
    "data = load_encrypted_npz(password)"
   ]
  },
  {
   "cell_type": "code",
   "execution_count": 4,
   "metadata": {},
   "outputs": [
    {
     "name": "stdout",
     "output_type": "stream",
     "text": [
      "Decrypted data: {'X_train': array([[0, 0, 0, ..., 0, 0, 0],\n",
      "       [0, 0, 0, ..., 0, 0, 0],\n",
      "       [0, 0, 0, ..., 0, 0, 0],\n",
      "       ...,\n",
      "       [0, 0, 0, ..., 0, 0, 0],\n",
      "       [0, 0, 0, ..., 0, 0, 0],\n",
      "       [0, 0, 0, ..., 0, 0, 0]], dtype=uint8), 'y_train': array([1, 2, 1, ..., 2, 2, 1], dtype=uint8), 'X_test': array([[0, 0, 0, ..., 0, 0, 0],\n",
      "       [0, 0, 0, ..., 0, 0, 0],\n",
      "       [0, 0, 0, ..., 0, 0, 0],\n",
      "       ...,\n",
      "       [0, 0, 0, ..., 0, 0, 0],\n",
      "       [0, 0, 0, ..., 0, 0, 0],\n",
      "       [0, 0, 0, ..., 0, 0, 0]], dtype=uint8)}\n"
     ]
    }
   ],
   "source": [
    "print(\"Decrypted data:\", data)"
   ]
  },
  {
   "cell_type": "markdown",
   "metadata": {},
   "source": [
    "# Now start working\n"
   ]
  },
  {
   "cell_type": "markdown",
   "metadata": {},
   "source": [
    "## **SVM class**"
   ]
  },
  {
   "cell_type": "code",
   "execution_count": 5,
   "metadata": {},
   "outputs": [],
   "source": [
    "def shuffle_sample(train):\n",
    "    tab = np.hstack((train[0], train[1].reshape(train[1].shape[0], 1)))\n",
    "    np.random.shuffle(tab)\n",
    "    X_train, y_train = np.hsplit(tab, [tab.shape[1] - 1])\n",
    "    y_train = y_train.reshape(y_train.shape[0])\n",
    "    return (X_train, y_train)\n",
    "    \n",
    "def split_sample(train, n_split=5):\n",
    "    n_samples, n_features = train[0].shape\n",
    "    shuffle_sample(train)\n",
    "    M = []\n",
    "    train_set = np.array_split(train[0], n_split)\n",
    "    train_label = np.array_split(train[1], n_split)\n",
    "    for i in range(n_split):\n",
    "        M.append((train_set[i], train_label[i]))\n",
    "    return (M)"
   ]
  },
  {
   "cell_type": "code",
   "execution_count": 6,
   "metadata": {},
   "outputs": [],
   "source": [
    "class SVM:\n",
    "    \n",
    "    def __init__(self, learning_rate=0.001, lambda_param=0.001, iteration=100):\n",
    "        self.lr = learning_rate\n",
    "        self.lambda_param = lambda_param\n",
    "        self.iteration = iteration\n",
    "        self.w = None\n",
    "        self.b = None\n",
    "\n",
    "    def fit(self, X, y, splits=5):\n",
    "        self.Kfold_train(X, y, splits)\n",
    "        \n",
    "    def std_train(self, X, y):\n",
    "        y_ = np.where(y == 1, 1, -1)\n",
    "        for _ in range(self.iteration):\n",
    "            for i, x_i in enumerate(X):\n",
    "                condition = y_[i] * (np.dot(x_i, self.w) + self.b) >= 1\n",
    "                if condition:\n",
    "                    self.w -= self.lr * (2 * self.lambda_param * self.w)\n",
    "                else:\n",
    "                    self.w -= self.lr * (2 * self.lambda_param * self.w - np.dot(x_i, y_[i]))\n",
    "                    self.b -= self.lr * y_[i]\n",
    "\n",
    "    def prediction(self, X):\n",
    "        ret = np.dot(X, self.w) + self.b\n",
    "        if (ret < 0):\n",
    "            return (2)\n",
    "        else:\n",
    "            return (1)\n",
    "\n",
    "    def F1_scoring(self, data_validation):\n",
    "        n_samples, n_features = data_validation[0].shape\n",
    "        [F1, accuracy, precision, recall] = [0, 0, 0, 0]\n",
    "        [TP, FP, FN, TN] = [0, 0, 0, 0]\n",
    "        i = 0\n",
    "    \n",
    "        while (i < n_samples):\n",
    "            val = self.prediction(data_validation[0][i])\n",
    "            diff = val - int(data_validation[1][i])\n",
    "            if val == 1:\n",
    "                if diff == 0:\n",
    "                    TP += 1\n",
    "                else:\n",
    "                    FP += 1\n",
    "            else:\n",
    "                if diff == 0:\n",
    "                    TN += 1\n",
    "                else:\n",
    "                    FN += 1\n",
    "            i += 1\n",
    "    \n",
    "        precision = TP / (TP + FP) * 100\n",
    "        recall = TP / (TP + FN) * 100\n",
    "        accuracy = (TP + TN) / n_samples * 100\n",
    "        F1 = (2 * precision * recall) / (precision + recall)\n",
    "        return ([F1, accuracy, precision, recall])\n",
    "    \n",
    "    def Kfold_train(self, X_train, y_train, split=5):\n",
    "        n_samples, n_features = X_train.shape\n",
    "        self.w = np.random.randn(n_features)\n",
    "        self.b = 0\n",
    "        score = None\n",
    "        high_score = None\n",
    "        train = (X_train, y_train)\n",
    "        train = shuffle_sample(train)\n",
    "        if (split <= 1):\n",
    "            split = 2\n",
    "        train = split_sample(train, split)\n",
    "        i = 0\n",
    "        while i < len(train) - 1:\n",
    "            j = 0\n",
    "            while j < len(train) - 1:\n",
    "                if i != j:\n",
    "                    self.std_train(train[j][0], train[j][1])\n",
    "                w = self.w\n",
    "                b = self.b\n",
    "                j += 1\n",
    "            score = self.F1_scoring(train[i])\n",
    "            i += 1\n",
    "            if (high_score == None) or (score[0] > high_score[0]):\n",
    "                parametre = (w, b)\n",
    "                high_score = score\n",
    "        self.w = parametre[0]\n",
    "        self.b = parametre[1]"
   ]
  },
  {
   "cell_type": "markdown",
   "metadata": {},
   "source": [
    "## TEST"
   ]
  },
  {
   "cell_type": "code",
   "execution_count": 9,
   "metadata": {},
   "outputs": [],
   "source": [
    "C = SVM()\n",
    "C.fit(data[\"X_train\"], data[\"y_train\"], 5)"
   ]
  },
  {
   "cell_type": "code",
   "execution_count": 10,
   "metadata": {},
   "outputs": [
    {
     "data": {
      "text/plain": [
       "[99.18227772821885, 99.13385826771653, 99.41877794336811, 98.94690002966479]"
      ]
     },
     "execution_count": 10,
     "metadata": {},
     "output_type": "execute_result"
    }
   ],
   "source": [
    "train = (data[\"X_train\"], data[\"y_train\"])\n",
    "train = shuffle_sample(train)\n",
    "C.F1_scoring(train)"
   ]
  },
  {
   "cell_type": "code",
   "execution_count": null,
   "metadata": {},
   "outputs": [],
   "source": []
  }
 ],
 "metadata": {
  "kernelspec": {
   "display_name": "Python 3 (ipykernel)",
   "language": "python",
   "name": "python3"
  },
  "language_info": {
   "codemirror_mode": {
    "name": "ipython",
    "version": 3
   },
   "file_extension": ".py",
   "mimetype": "text/x-python",
   "name": "python",
   "nbconvert_exporter": "python",
   "pygments_lexer": "ipython3",
   "version": "3.12.6"
  }
 },
 "nbformat": 4,
 "nbformat_minor": 4
}
