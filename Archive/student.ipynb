{
 "cells": [
  {
   "cell_type": "code",
   "execution_count": 1,
   "metadata": {},
   "outputs": [],
   "source": [
    "import numpy as np\n",
    "import pandas as pd\n",
    "import matplotlib.pyplot as plt"
   ]
  },
  {
   "cell_type": "markdown",
   "metadata": {},
   "source": [
    "# Enter the password here\n"
   ]
  },
  {
   "cell_type": "code",
   "execution_count": 2,
   "metadata": {},
   "outputs": [],
   "source": [
    "password = '3me7vdo_'"
   ]
  },
  {
   "cell_type": "code",
   "execution_count": 3,
   "metadata": {},
   "outputs": [],
   "source": [
    "from npz_loader import load_encrypted_npz\n",
    "\n",
    "data = load_encrypted_npz(password)"
   ]
  },
  {
   "cell_type": "code",
   "execution_count": 4,
   "metadata": {},
   "outputs": [
    {
     "name": "stdout",
     "output_type": "stream",
     "text": [
      "Decrypted data: {'X_train': array([[0, 0, 0, ..., 0, 0, 0],\n",
      "       [0, 0, 0, ..., 0, 0, 0],\n",
      "       [0, 0, 0, ..., 0, 0, 0],\n",
      "       ...,\n",
      "       [0, 0, 0, ..., 0, 0, 0],\n",
      "       [0, 0, 0, ..., 0, 0, 0],\n",
      "       [0, 0, 0, ..., 0, 0, 0]], dtype=uint8), 'y_train': array([1, 2, 1, ..., 2, 2, 1], dtype=uint8), 'X_test': array([[0, 0, 0, ..., 0, 0, 0],\n",
      "       [0, 0, 0, ..., 0, 0, 0],\n",
      "       [0, 0, 0, ..., 0, 0, 0],\n",
      "       ...,\n",
      "       [0, 0, 0, ..., 0, 0, 0],\n",
      "       [0, 0, 0, ..., 0, 0, 0],\n",
      "       [0, 0, 0, ..., 0, 0, 0]], dtype=uint8)}\n"
     ]
    }
   ],
   "source": [
    "print(\"Decrypted data:\", data)"
   ]
  },
  {
   "cell_type": "markdown",
   "metadata": {},
   "source": [
    "# Now start working\n"
   ]
  },
  {
   "cell_type": "code",
   "execution_count": 86,
   "metadata": {},
   "outputs": [],
   "source": [
    "class SVM:\n",
    "\n",
    "    def __init__(self, learning_rate=0.001, lambda_param=0.000005, iteration=1000):\n",
    "        self.lr = learning_rate\n",
    "        self.lambda_param = lambda_param\n",
    "        self.iteration = iteration\n",
    "        self.w = None\n",
    "        self.b = None\n",
    "\n",
    "    def fit(self, X, y):\n",
    "        n_samples, n_features = X.shape\n",
    "        y_ = np.where(y == 1, 1, -1)\n",
    "        self.w = np.zeros(n_features)\n",
    "        self.b = 0\n",
    "\n",
    "        for _ in range(self.iteration):\n",
    "            for i, x_i in enumerate(X):\n",
    "                condition = y_[i] * (np.dot(x_i, self.w) - self.b) >= 1\n",
    "                if condition:\n",
    "                    self.w -= self.lr * (2 * self.lambda_param * self.w)\n",
    "                else:\n",
    "                    self.w -= self.lr * (2 * self.lambda_param * self.w - np.dot(x_i, y_[i]))\n",
    "                    self.b -= self.lr * y_[i]\n",
    "\n",
    "\n",
    "    def prediction(self, X):\n",
    "        ret = np.dot(X, self.w) - self.b\n",
    "        if (ret < 0):\n",
    "            return (2)\n",
    "        else:\n",
    "            return (1)"
   ]
  },
  {
   "cell_type": "code",
   "execution_count": 87,
   "metadata": {},
   "outputs": [],
   "source": [
    "C = SVM()"
   ]
  },
  {
   "cell_type": "code",
   "execution_count": 88,
   "metadata": {},
   "outputs": [],
   "source": [
    "C.fit(data[\"X_train\"], data[\"y_train\"])"
   ]
  },
  {
   "cell_type": "code",
   "execution_count": 89,
   "metadata": {},
   "outputs": [],
   "source": [
    "def F1_scoring(C: SVM, dataset: dict):\n",
    "    n_samples, n_features = dataset[\"X_train\"].shape\n",
    "    [F1, accuracy, precision, recall] = [0, 0, 0, 0]\n",
    "    [TP, FP, FN, TN] = [0, 0, 0, 0]\n",
    "    i = 0\n",
    "\n",
    "    while (i < n_samples):\n",
    "        val = C.prediction(dataset[\"X_train\"][i])\n",
    "        diff = val - int(dataset[\"y_train\"][i])\n",
    "        if val == 1:\n",
    "            if diff == 0:\n",
    "                TP += 1\n",
    "            else:\n",
    "                FP += 1\n",
    "        else:\n",
    "            if diff == 0:\n",
    "                TN += 1\n",
    "            else:\n",
    "                FN += 1\n",
    "        i += 1\n",
    "\n",
    "    precision = TP / (TP + FP) * 100\n",
    "    recall = TP / (TP + FN) * 100\n",
    "    accuracy = (TP + TN) / n_samples * 100\n",
    "    F1 = (2 * precision * recall) / (precision + recall)\n",
    "    print(f\"TP = {TP}\")\n",
    "    print(f\"TN = {TN}\")\n",
    "    print(f\"FP = {FP}\")\n",
    "    print(f\"FN = {FN}\")\n",
    "    return ([F1, accuracy, precision, recall])"
   ]
  },
  {
   "cell_type": "code",
   "execution_count": 90,
   "metadata": {},
   "outputs": [
    {
     "name": "stdout",
     "output_type": "stream",
     "text": [
      "TP = 6742\n",
      "TN = 5958\n",
      "FP = 0\n",
      "FN = 0\n",
      "[100.0, 100.0, 100.0, 100.0]\n"
     ]
    }
   ],
   "source": [
    "print(F1_scoring(C, data))"
   ]
  },
  {
   "cell_type": "code",
   "execution_count": null,
   "metadata": {},
   "outputs": [],
   "source": []
  },
  {
   "cell_type": "code",
   "execution_count": null,
   "metadata": {},
   "outputs": [],
   "source": []
  }
 ],
 "metadata": {
  "kernelspec": {
   "display_name": "Python 3 (ipykernel)",
   "language": "python",
   "name": "python3"
  },
  "language_info": {
   "codemirror_mode": {
    "name": "ipython",
    "version": 3
   },
   "file_extension": ".py",
   "mimetype": "text/x-python",
   "name": "python",
   "nbconvert_exporter": "python",
   "pygments_lexer": "ipython3",
   "version": "3.12.6"
  }
 },
 "nbformat": 4,
 "nbformat_minor": 4
}
